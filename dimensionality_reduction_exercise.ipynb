{
 "cells": [
  {
   "cell_type": "markdown",
   "metadata": {},
   "source": [
    "## Feature selection\n",
    "\n",
    "Create own functions to filter features based on the following criteria:\n",
    "\n",
    "* lower variance than x\n",
    "* number of missing values is more than *x* %\n",
    "* one of each pair of features, which are correlated together more than *x*"
   ]
  },
  {
   "cell_type": "markdown",
   "metadata": {},
   "source": [
    "Use two data sources as input:\n",
    "- output dataset from the feature engineering exercise last week.\n",
    "- output dataset from the PCA exercise\n",
    "\n",
    "Apply your functions to the combination of these two datasource and come up with the final dataset that can be used for training.\n",
    "\n",
    "> #### Note\n",
    "> Don't forget to keep target variable (duration_seconds) intact"
   ]
  },
  {
   "cell_type": "code",
   "execution_count": null,
   "metadata": {},
   "outputs": [],
   "source": []
  },
  {
   "cell_type": "code",
   "execution_count": null,
   "metadata": {},
   "outputs": [],
   "source": []
  },
  {
   "cell_type": "code",
   "execution_count": null,
   "metadata": {},
   "outputs": [],
   "source": []
  }
 ],
 "metadata": {
  "kernelspec": {
   "display_name": "Python 3",
   "language": "python",
   "name": "python3"
  },
  "language_info": {
   "codemirror_mode": {
    "name": "ipython",
    "version": 3
   },
   "file_extension": ".py",
   "mimetype": "text/x-python",
   "name": "python",
   "nbconvert_exporter": "python",
   "pygments_lexer": "ipython3",
   "version": "3.7.6"
  }
 },
 "nbformat": 4,
 "nbformat_minor": 4
}
